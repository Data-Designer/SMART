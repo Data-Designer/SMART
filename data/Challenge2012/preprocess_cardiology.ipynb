{
 "cells": [
  {
   "cell_type": "code",
   "execution_count": 1,
   "metadata": {
    "ExecuteTime": {
     "end_time": "2022-07-03T01:48:13.307465Z",
     "start_time": "2022-07-03T01:48:12.922901Z"
    }
   },
   "outputs": [
    {
     "name": "stdout",
     "output_type": "stream",
     "text": [
      "12000\n",
      "132539.txt\n"
     ]
    }
   ],
   "source": [
    "import pandas as pd\n",
    "import numpy as np\n",
    "import os\n",
    "import pickle\n",
    "import csv\n",
    "\n",
    "training_examples = []\n",
    "training_files = [f for f in os.listdir('./raw/') if f.endswith('.txt')]\n",
    "training_size = len(training_files)\n",
    "training_files.sort()\n",
    "print(training_size)\n",
    "print(training_files[0])"
   ]
  },
  {
   "cell_type": "code",
   "execution_count": 2,
   "metadata": {
    "ExecuteTime": {
     "end_time": "2022-07-03T01:48:13.325981Z",
     "start_time": "2022-07-03T01:48:13.309217Z"
    }
   },
   "outputs": [],
   "source": [
    "y_dict = {}\n",
    "for file in ['Outcomes-a.txt', 'Outcomes-b.txt', 'Outcomes-c.txt']:\n",
    "    with open(file, mode='r', encoding='utf-8') as f:\n",
    "        reader = csv.reader(f)\n",
    "        for i, row in enumerate(reader):\n",
    "            if i == 0:\n",
    "                continue\n",
    "            y_dict[row[0]] = int(row[-1])"
   ]
  },
  {
   "cell_type": "code",
   "execution_count": 3,
   "metadata": {
    "ExecuteTime": {
     "end_time": "2022-07-03T01:48:13.336837Z",
     "start_time": "2022-07-03T01:48:13.327375Z"
    }
   },
   "outputs": [
    {
     "name": "stdout",
     "output_type": "stream",
     "text": [
      "4 37\n"
     ]
    }
   ],
   "source": [
    "static_name = ['Age', 'Gender', 'Height', 'ICUType']\n",
    "dynamic_name = [\n",
    "    'Albumin', 'ALP', 'ALT', 'AST', 'Bilirubin', 'BUN',\n",
    "    'Cholesterol', 'Creatinine', 'DiasABP', 'FiO2', 'GCS', 'Glucose', 'HCO3', 'HCT', 'HR', 'K', 'Lactate', 'Mg',\n",
    "    'MAP', 'MechVent', 'Na', 'NIDiasABP', 'NIMAP', 'NISysABP', 'PaCO2', 'PaO2', 'pH', 'Platelets', 'RespRate',\n",
    "    'SaO2', 'SysABP', 'Temp', 'TroponinI', 'TroponinT', 'Urine', 'WBC', 'Weight'\n",
    "]\n",
    "static_num = len(static_name)\n",
    "dynamic_num = len(dynamic_name)\n",
    "print(static_num, dynamic_num)"
   ]
  },
  {
   "cell_type": "code",
   "execution_count": null,
   "metadata": {
    "ExecuteTime": {
     "end_time": "2022-07-11T11:38:45.336458Z",
     "start_time": "2022-07-11T11:38:19.137851Z"
    }
   },
   "outputs": [],
   "source": [
    "static_dict = {static_name[i]: i for i in range(static_num)}\n",
    "dynamic_dict = {dynamic_name[i]: i for i in range(dynamic_num)}\n",
    "x = []\n",
    "static = []\n",
    "y = []\n",
    "name = []\n",
    "mask = []\n",
    "static_mask = []\n",
    "\n",
    "for file in training_files:\n",
    "    x_one = []\n",
    "    mask_one = []\n",
    "    static_one = np.zeros((static_num))\n",
    "    static_mask_one = np.ones((static_num))\n",
    "    with open(os.path.join('raw', file), mode='r', encoding='utf-8') as f:\n",
    "        reader = csv.reader(f)\n",
    "        x_row = np.zeros((dynamic_num))\n",
    "        mask_row = np.zeros((dynamic_num))\n",
    "        cur_time = 0\n",
    "        for i, row in enumerate(reader):\n",
    "            if i == 0:\n",
    "                continue\n",
    "            if row[1] == 'RecordID':\n",
    "                continue\n",
    "            time = int(row[0][:2])\n",
    "            while time > cur_time:\n",
    "                cur_time += 1\n",
    "                x_one.append(np.divide(x_row, mask_row, out=np.zeros_like(x_row), where=mask_row!=0))\n",
    "                mask_one.append(mask_row)\n",
    "                x_row = np.zeros((dynamic_num))\n",
    "                mask_row = np.zeros((dynamic_num))\n",
    "            if row[1] in static_dict:\n",
    "                if float(row[2]) == -1:\n",
    "                    static_mask_one[static_dict[row[1]]] = 0\n",
    "                static_one[static_dict[row[1]]] = float(row[2])\n",
    "            elif row[1] in dynamic_dict:\n",
    "                if float(row[2]) != -1:\n",
    "                    x_row[dynamic_dict[row[1]]] += float(row[2])\n",
    "                    mask_row[dynamic_dict[row[1]]] += 1\n",
    "            else:\n",
    "                print(file, i, row)\n",
    "#                 raise Exception(row[1] + \"不存在！\")\n",
    "    if len(x_one) >= 1:\n",
    "        x.append(x_one)\n",
    "        mask.append(mask_one)\n",
    "        static.append(static_one)\n",
    "        y.append(y_dict[file.split('.')[0]])\n",
    "        name.append(int(file.split('.')[0]))\n",
    "        static_mask.append(static_mask_one)\n",
    "    else:\n",
    "        print(int(file.split('.')[0]))\n",
    "print(len(x), len(mask), len(static), len(y), len(name), len(static_mask))"
   ]
  },
  {
   "cell_type": "code",
   "execution_count": 5,
   "metadata": {
    "ExecuteTime": {
     "end_time": "2022-07-03T01:48:37.803393Z",
     "start_time": "2022-07-03T01:48:37.742570Z"
    },
    "scrolled": false
   },
   "outputs": [
    {
     "name": "stdout",
     "output_type": "stream",
     "text": [
      "[64.54446112779446 0.5593093093093093 88.2329829829832 2.7789456122789455]\n",
      "[17.167085289459482 0.49848210382242947 86.07397893514587\n",
      " 1.0174571449222138]\n"
     ]
    }
   ],
   "source": [
    "static_masked = np.ma.masked_array(static, static_mask == 0)\n",
    "static_mean = np.mean(static_masked, 0)\n",
    "static_std = np.std(static_masked, 0)\n",
    "print(static_mean)\n",
    "print(static_std)"
   ]
  },
  {
   "cell_type": "code",
   "execution_count": 6,
   "metadata": {
    "ExecuteTime": {
     "end_time": "2022-07-03T01:48:39.384750Z",
     "start_time": "2022-07-03T01:48:37.804905Z"
    }
   },
   "outputs": [
    {
     "name": "stdout",
     "output_type": "stream",
     "text": [
      "[2.8905121746431606 119.88992256399226 359.16417145844224\n",
      " 499.3405812251725 2.8602379720641435 27.168986262665626\n",
      " 155.77648839556005 1.4718174102812507 59.548933967622546 0.54334321190119\n",
      " 11.400131317707816 141.0752710430305 23.14264098352496 30.693924820034812\n",
      " 86.67964960905361 4.13046925943177 2.9582480911146423 2.0226436037829645\n",
      " 80.28002073734399 1.0 139.103615805169 58.42041704550531\n",
      " 77.38323911303443 119.70474122706251 40.40811903927159 148.07255714038462\n",
      " 7.422682125322088 190.06484593502736 19.589647712868015 96.68314821632046\n",
      " 119.83976287909448 37.075962366405435 8.223261802575104 1.177369007263943\n",
      " 116.80102491044838 13.11253574076491 83.31616226269492]\n",
      "[0.6515312461096975 174.7038210819652 1127.2163081328217\n",
      " 1629.1306842987667 5.7808879722598485 22.579892422277968 44.4468155994555\n",
      " 1.548282599489897 12.853351581895854 0.1885805601618637\n",
      " 3.9980440115359355 65.29745894882797 4.721950545729931 5.00915889640266\n",
      " 17.787786845117104 0.682788998245779 2.557057698421397 0.5117470928286718\n",
      " 16.070695874532642 0.0 5.2133381560317815 14.971438033754483\n",
      " 14.94250349107883 22.28990738287481 9.116430206954695 85.74616231629712\n",
      " 4.9745731425761495 107.07727758194609 5.424237586727131 3.518887612920529\n",
      " 23.550533738970774 1.2990561983446194 10.995968032228646\n",
      " 2.7935903195852405 157.32455132429277 33.60611654519393\n",
      " 24.743150728046555]\n"
     ]
    }
   ],
   "source": [
    "x_flat = []\n",
    "mask_flat = []\n",
    "for i in range(len(x)):\n",
    "    x_flat += x[i]\n",
    "    mask_flat += mask[i]\n",
    "x_masked = np.ma.masked_array(x_flat, np.array(mask_flat) == 0)\n",
    "x_mean = np.mean(x_masked, 0)\n",
    "x_std = np.std(x_masked, 0)\n",
    "print(x_mean)\n",
    "print(x_std)"
   ]
  },
  {
   "cell_type": "code",
   "execution_count": 7,
   "metadata": {},
   "outputs": [
    {
     "name": "stdout",
     "output_type": "stream",
     "text": [
      "1.0 0.0\n"
     ]
    }
   ],
   "source": [
    "print(x_mean[19], x_std[19])\n",
    "x_mean[19] = 0\n",
    "x_std[19] = 1"
   ]
  },
  {
   "cell_type": "code",
   "execution_count": 8,
   "metadata": {
    "ExecuteTime": {
     "end_time": "2022-07-03T01:49:51.401173Z",
     "start_time": "2022-07-03T01:48:39.386474Z"
    }
   },
   "outputs": [],
   "source": [
    "x_normalize = []\n",
    "static_normalize = []\n",
    "mask_normalize = []\n",
    "for i in range(len(x)):\n",
    "    # static_normalize.append(np.where(static_mask[i] > 0, (static[i] - static_mean) / static_std, 0).tolist())\n",
    "    static_normalize.append(np.where(static_mask[i] > 0, static[i], 0).tolist())\n",
    "    x_one = []\n",
    "    mask_one = []\n",
    "    for j in range(len(x[i])):\n",
    "        x_one.append(np.where(mask[i][j] > 0, x[i][j], 0).tolist())\n",
    "        # x_one.append(np.where(mask[i][j] > 0, (x[i][j] - x_mean) / x_std, 0).tolist())\n",
    "        mask_one.append(np.where(mask[i][j] > 0, 1, 0).tolist())\n",
    "    x_normalize.append(x_one)\n",
    "    mask_normalize.append(mask_one)"
   ]
  },
  {
   "cell_type": "code",
   "execution_count": null,
   "metadata": {
    "ExecuteTime": {
     "end_time": "2022-07-03T01:49:51.411404Z",
     "start_time": "2022-07-03T01:49:51.402875Z"
    }
   },
   "outputs": [],
   "source": [
    "index_array = list(range(len(x)))\n",
    "# np.random.shuffle(index_array)\n",
    "print(index_array)"
   ]
  },
  {
   "cell_type": "code",
   "execution_count": 10,
   "metadata": {
    "ExecuteTime": {
     "end_time": "2022-07-03T01:49:51.439329Z",
     "start_time": "2022-07-03T01:49:51.413025Z"
    }
   },
   "outputs": [],
   "source": [
    "x_random = []\n",
    "y_random = []\n",
    "static_random = []\n",
    "mask_random = []\n",
    "name_random = []\n",
    "for i in range(len(index_array)):\n",
    "    x_random.append(x_normalize[index_array[i]])\n",
    "    y_random.append(y[index_array[i]])\n",
    "    static_random.append(static_normalize[index_array[i]])\n",
    "    mask_random.append(mask_normalize[index_array[i]])\n",
    "    name_random.append(name[index_array[i]])"
   ]
  },
  {
   "cell_type": "code",
   "execution_count": 11,
   "metadata": {
    "ExecuteTime": {
     "end_time": "2022-07-03T01:49:53.197245Z",
     "start_time": "2022-07-03T01:49:51.441440Z"
    }
   },
   "outputs": [],
   "source": [
    "pickle.dump((x_random, y_random, static_random, mask_random, name_random), open('data.pkl', 'wb'))\n",
    "stat_dict = {'x_mean': x_mean, 'x_std': x_std, 'static_mean': static_mean, 'static_std': static_std}\n",
    "pickle.dump(stat_dict, open('stat.pkl', 'wb'))"
   ]
  },
  {
   "cell_type": "code",
   "execution_count": 12,
   "metadata": {
    "ExecuteTime": {
     "end_time": "2022-07-07T06:13:20.174203Z",
     "start_time": "2022-07-07T06:13:17.291338Z"
    }
   },
   "outputs": [
    {
     "name": "stdout",
     "output_type": "stream",
     "text": [
      "Observed Rate: 0.24722348952128317\n"
     ]
    }
   ],
   "source": [
    "cnt = 0\n",
    "cnt1 = 0\n",
    "for i in range(len(mask)):\n",
    "    for j in range(len(mask[i])):\n",
    "        cnt += sum(mask[i][j])\n",
    "        cnt1 += len(mask[i][j])\n",
    "print('Observed Rate:', cnt / cnt1)"
   ]
  },
  {
   "cell_type": "code",
   "execution_count": null,
   "metadata": {},
   "outputs": [],
   "source": []
  }
 ],
 "metadata": {
  "kernelspec": {
   "display_name": "Python 3 (ipykernel)",
   "language": "python",
   "name": "python3"
  },
  "language_info": {
   "codemirror_mode": {
    "name": "ipython",
    "version": 3
   },
   "file_extension": ".py",
   "mimetype": "text/x-python",
   "name": "python",
   "nbconvert_exporter": "python",
   "pygments_lexer": "ipython3",
   "version": "3.11.5"
  },
  "toc": {
   "base_numbering": 1,
   "nav_menu": {},
   "number_sections": true,
   "sideBar": true,
   "skip_h1_title": false,
   "title_cell": "Table of Contents",
   "title_sidebar": "Contents",
   "toc_cell": false,
   "toc_position": {},
   "toc_section_display": true,
   "toc_window_display": false
  }
 },
 "nbformat": 4,
 "nbformat_minor": 2
}
