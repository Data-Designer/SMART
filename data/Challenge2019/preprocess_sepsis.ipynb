{
 "cells": [
  {
   "cell_type": "code",
   "execution_count": 5,
   "metadata": {
    "ExecuteTime": {
     "end_time": "2022-07-03T01:47:58.274267Z",
     "start_time": "2022-07-03T01:47:57.802444Z"
    }
   },
   "outputs": [
    {
     "name": "stdout",
     "output_type": "stream",
     "text": [
      "40335\n",
      "p000001.csv\n"
     ]
    }
   ],
   "source": [
    "import pandas as pd\n",
    "import numpy as np\n",
    "import os\n",
    "import pickle\n",
    "import csv\n",
    "\n",
    "training_examples = []\n",
    "training_files = [f for f in os.listdir('./training/') if f.endswith('.csv')]\n",
    "training_files.remove('p108796.csv')  # no dynamic data\n",
    "training_size = len(training_files)\n",
    "training_files.sort()\n",
    "print(training_size)\n",
    "print(training_files[0])"
   ]
  },
  {
   "cell_type": "code",
   "execution_count": 2,
   "metadata": {
    "ExecuteTime": {
     "end_time": "2022-07-03T01:47:58.279835Z",
     "start_time": "2022-07-03T01:47:58.276383Z"
    }
   },
   "outputs": [
    {
     "name": "stdout",
     "output_type": "stream",
     "text": [
      "5 34\n"
     ]
    }
   ],
   "source": [
    "static_num = 5\n",
    "dynamic_num = 34\n",
    "print(static_num, dynamic_num)"
   ]
  },
  {
   "cell_type": "code",
   "execution_count": 3,
   "metadata": {
    "ExecuteTime": {
     "end_time": "2022-07-03T01:48:16.816764Z",
     "start_time": "2022-07-03T01:47:58.283882Z"
    }
   },
   "outputs": [
    {
     "name": "stdout",
     "output_type": "stream",
     "text": [
      "40335 40335 40335 40335 40335 40335\n"
     ]
    }
   ],
   "source": [
    "x = []\n",
    "static = []\n",
    "y = []\n",
    "name = []\n",
    "mask = []\n",
    "static_mask = []\n",
    "max_length = 60\n",
    "\n",
    "for file in training_files:\n",
    "    x_one = []\n",
    "    mask_one = []\n",
    "    static_one = np.zeros((static_num))\n",
    "    static_mask_one = np.ones((static_num))\n",
    "    with open(os.path.join('./training/', file), mode='r', encoding='utf-8') as f:\n",
    "        reader = csv.reader(f)\n",
    "        los = None\n",
    "        for row in reader:\n",
    "            if row[0] == 'HR':\n",
    "                continue\n",
    "            if los == None:\n",
    "                los = int(row[-2])\n",
    "            x_row = np.zeros((dynamic_num))\n",
    "            mask_row = np.zeros((dynamic_num))\n",
    "            for i in range(dynamic_num):\n",
    "                if row[i] != '':\n",
    "                    x_row[i] = float(row[i])\n",
    "                    mask_row[i] = 1\n",
    "            x_one.append(x_row)\n",
    "            mask_one.append(mask_row)\n",
    "        for i in range(static_num):\n",
    "            if row[i + dynamic_num] != '':\n",
    "                static_one[i] = float(row[i + dynamic_num])\n",
    "            else:\n",
    "                static_mask_one[i] = 0\n",
    "        assert int(row[-2]) - los + 1 == len(x_one)\n",
    "    if len(x_one) >= 8:\n",
    "        x.append(x_one[:max_length])\n",
    "        mask.append(mask_one[:max_length])\n",
    "        static.append(static_one)\n",
    "        y.append(int(row[-1]))\n",
    "        name.append(file.split('.')[0])\n",
    "        static_mask.append(static_mask_one)\n",
    "print(len(x), len(mask), len(static), len(y), len(name), len(static_mask))"
   ]
  },
  {
   "cell_type": "code",
   "execution_count": 4,
   "metadata": {},
   "outputs": [
    {
     "data": {
      "text/plain": [
       "0.07269121110697906"
      ]
     },
     "execution_count": 4,
     "metadata": {},
     "output_type": "execute_result"
    }
   ],
   "source": [
    "sum(y) / len(y)"
   ]
  },
  {
   "cell_type": "code",
   "execution_count": 4,
   "metadata": {
    "ExecuteTime": {
     "end_time": "2022-07-03T01:48:16.944611Z",
     "start_time": "2022-07-03T01:48:16.818481Z"
    },
    "scrolled": true
   },
   "outputs": [
    {
     "name": "stdout",
     "output_type": "stream",
     "text": [
      "[61.643364819635195 0.559439692574687 0.3041279285979918\n",
      " 0.30868972356514196 -51.84894508491751]\n",
      "[16.48294143717642 0.49645435132206406 0.4600370981177364\n",
      " 0.4619527877721603 139.76471941192648]\n"
     ]
    }
   ],
   "source": [
    "static_masked = np.ma.masked_array(static, static_mask == 0)\n",
    "static_mean = np.mean(static_masked, 0)\n",
    "static_std = np.std(static_masked, 0)\n",
    "print(static_mean)\n",
    "print(static_std)"
   ]
  },
  {
   "cell_type": "code",
   "execution_count": 5,
   "metadata": {
    "ExecuteTime": {
     "end_time": "2022-07-03T01:48:20.779992Z",
     "start_time": "2022-07-03T01:48:16.946115Z"
    },
    "scrolled": true
   },
   "outputs": [
    {
     "name": "stdout",
     "output_type": "stream",
     "text": [
      "[84.40068921212506 97.19541542338456 36.96793197614933 123.49223083462866\n",
      " 82.26639423301435 63.778894225101425 18.639076486536904 32.64997132675214\n",
      " -0.8098003778337529 24.0035282991416 0.5611962938878147 7.377292025639113\n",
      " 40.97238702301318 92.5940955758454 260.27122937777403 23.402473641124775\n",
      " 101.4817485830302 7.562737074699891 105.87319338270426 1.503799489286105\n",
      " 1.7383651804670983 136.88015798308658 2.6781216776458234\n",
      " 2.044774645455106 3.5451515306470016 4.141621221621143 1.9137104484407141\n",
      " 8.327994920373143 30.847752073264314 10.457268079823152\n",
      " 41.090147814909926 11.428119707690627 285.35315203955497\n",
      " 196.3631885870183]\n",
      "[17.261695519395825 2.9359194472523096 0.7656289517210707\n",
      " 23.05204325470559 16.31529125333787 13.952064430846697 5.041665018524193\n",
      " 7.971572686781445 4.273004765636656 4.348948699776841 11.625811344559338\n",
      " 0.07450378537197386 9.227759710771865 10.979302689448696 857.928375137658\n",
      " 19.64150408680875 121.40877635839475 2.4203115046013752 5.849430016059299\n",
      " 1.8190235014176648 3.576915916817902 51.61352286588946 2.532528493800784\n",
      " 0.39797128171390417 1.4271864060389454 0.6458519602735703\n",
      " 3.8385971785922877 24.93558318373703 5.515033657651887 1.9774632010170878\n",
      " 26.216214674478234 7.807715902329797 148.78783535415977\n",
      " 102.75949150982207]\n"
     ]
    }
   ],
   "source": [
    "x_flat = []\n",
    "mask_flat = []\n",
    "for i in range(len(x)):\n",
    "    x_flat += x[i]\n",
    "    mask_flat += mask[i]\n",
    "x_masked = np.ma.masked_array(x_flat, np.array(mask_flat) == 0)\n",
    "x_mean = np.mean(x_masked, 0)\n",
    "x_std = np.std(x_masked, 0)\n",
    "print(x_mean)\n",
    "print(x_std)"
   ]
  },
  {
   "cell_type": "code",
   "execution_count": 6,
   "metadata": {
    "ExecuteTime": {
     "end_time": "2022-07-03T01:51:56.305103Z",
     "start_time": "2022-07-03T01:48:20.781450Z"
    },
    "scrolled": true
   },
   "outputs": [],
   "source": [
    "x_normalize = []\n",
    "static_normalize = []\n",
    "mask_normalize = []\n",
    "for i in range(len(x)):\n",
    "    static_normalize.append(np.where(static_mask[i] > 0, (static[i] - static_mean) / static_std, 0).tolist())\n",
    "    x_one = []\n",
    "    mask_one = []\n",
    "    for j in range(len(x[i])):\n",
    "        x_one.append(np.where(mask[i][j] > 0, (x[i][j] - x_mean) / x_std, 0).tolist())\n",
    "        mask_one.append(np.where(mask[i][j] > 0, 1, 0).tolist())\n",
    "    x_normalize.append(x_one)\n",
    "    mask_normalize.append(mask_one)"
   ]
  },
  {
   "cell_type": "code",
   "execution_count": null,
   "metadata": {
    "ExecuteTime": {
     "end_time": "2022-07-03T01:51:56.323756Z",
     "start_time": "2022-07-03T01:51:56.306764Z"
    }
   },
   "outputs": [],
   "source": [
    "index_array = list(range(len(x)))\n",
    "# np.random.shuffle(index_array)\n",
    "print(index_array)"
   ]
  },
  {
   "cell_type": "code",
   "execution_count": 8,
   "metadata": {
    "ExecuteTime": {
     "end_time": "2022-07-03T01:51:56.385429Z",
     "start_time": "2022-07-03T01:51:56.325289Z"
    }
   },
   "outputs": [],
   "source": [
    "x_random = []\n",
    "y_random = []\n",
    "static_random = []\n",
    "mask_random = []\n",
    "name_random = []\n",
    "for i in range(len(index_array)):\n",
    "    x_random.append(x_normalize[index_array[i]])\n",
    "    y_random.append(y[index_array[i]])\n",
    "    static_random.append(static_normalize[index_array[i]])\n",
    "    mask_random.append(mask_normalize[index_array[i]])\n",
    "    name_random.append(name[index_array[i]])"
   ]
  },
  {
   "cell_type": "code",
   "execution_count": 9,
   "metadata": {
    "ExecuteTime": {
     "end_time": "2022-07-03T01:52:01.214265Z",
     "start_time": "2022-07-03T01:51:56.387464Z"
    }
   },
   "outputs": [],
   "source": [
    "pickle.dump((x_random, y_random, static_random, mask_random, name_random), open('data_normalized.pkl', 'wb'))\n",
    "stat_dict = {'x_mean': x_mean, 'x_std': x_std, 'static_mean': static_mean, 'static_std': static_std}\n",
    "pickle.dump(stat_dict, open('stat.pkl', 'wb'))"
   ]
  },
  {
   "cell_type": "code",
   "execution_count": 6,
   "metadata": {
    "ExecuteTime": {
     "end_time": "2022-07-07T06:13:32.079336Z",
     "start_time": "2022-07-07T06:13:24.634858Z"
    }
   },
   "outputs": [
    {
     "name": "stdout",
     "output_type": "stream",
     "text": [
      "Observed Rate: 0.19806265372723786\n"
     ]
    }
   ],
   "source": [
    "cnt = 0\n",
    "cnt1 = 0\n",
    "for i in range(len(mask)):\n",
    "    for j in range(len(mask[i])):\n",
    "        cnt += sum(mask[i][j])\n",
    "        cnt1 += len(mask[i][j])\n",
    "print('Observed Rate:', cnt / cnt1)"
   ]
  },
  {
   "cell_type": "code",
   "execution_count": null,
   "metadata": {},
   "outputs": [],
   "source": []
  }
 ],
 "metadata": {
  "kernelspec": {
   "display_name": "Python 3 (ipykernel)",
   "language": "python",
   "name": "python3"
  },
  "language_info": {
   "codemirror_mode": {
    "name": "ipython",
    "version": 3
   },
   "file_extension": ".py",
   "mimetype": "text/x-python",
   "name": "python",
   "nbconvert_exporter": "python",
   "pygments_lexer": "ipython3",
   "version": "3.11.5"
  },
  "toc": {
   "base_numbering": 1,
   "nav_menu": {},
   "number_sections": true,
   "sideBar": true,
   "skip_h1_title": false,
   "title_cell": "Table of Contents",
   "title_sidebar": "Contents",
   "toc_cell": false,
   "toc_position": {},
   "toc_section_display": true,
   "toc_window_display": false
  }
 },
 "nbformat": 4,
 "nbformat_minor": 2
}
